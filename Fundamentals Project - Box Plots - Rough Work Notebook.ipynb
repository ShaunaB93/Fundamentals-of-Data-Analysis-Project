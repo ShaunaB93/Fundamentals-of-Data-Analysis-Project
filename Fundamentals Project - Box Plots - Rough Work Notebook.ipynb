{
 "cells": [
  {
   "cell_type": "markdown",
   "metadata": {},
   "source": [
    "# Box Plots"
   ]
  },
  {
   "cell_type": "markdown",
   "metadata": {},
   "source": [
    "## Summarise the history of the box plot and situations in which it used."
   ]
  },
  {
   "cell_type": "markdown",
   "metadata": {},
   "source": [
    "### Creation & history of box plots\n",
    "\n",
    "The box plot is a graphical summary of numerical based datasets based on quartiles. It is known to be invented by John Wilder Tukey in the 1970's. *[1]*\n",
    "\n",
    "As the graph is based on quartiles it is divided in to fourths. It is mainly used for representing the central tendency and variability of a data in a set, the distribution of the values contained in the dataset and the presence or absense of any outliers. It is also used in situations where a comparison is required or two or more variables, populations or quantitative data. *[1]*\n",
    "\n",
    "<img src=\"https://upload.wikimedia.org/wikipedia/en/e/e9/John_Tukey.jpg\" width=\"200\" height=\"200\">\n",
    "    \n",
    "*[2]*\n",
    "\n",
    "Box plots are generally used as a way of displaying the distribution of data across a five value summary -\n",
    "\n",
    "1) Minmum value\n",
    "\n",
    "2) First quartile\n",
    "\n",
    "3) Median\n",
    "\n",
    "4) Third quartile\n",
    "\n",
    "5) Maximum value\n",
    "\n",
    "*[3]*"
   ]
  },
  {
   "attachments": {
    "Box%20Plot%20Diagram.PNG": {
     "image/png": "[encoded data removed]"
    }
   },
   "cell_type": "markdown",
   "metadata": {},
   "source": [
    "### Common visual characteristics of a box plot\n",
    "\n",
    "Generally a box plot has a line within the graph which extends from the minimum and maximum values from the dataset being shown. Within the box formed by both of these lines, a separate line demonstrates the median of the dataset. \n",
    "\n",
    "The plots generally also have lines known as whiskers, being the reason box plots are some times called box and whisker plots. These whiskers extend from the initial lines. The front whisker represets the data from quartile 1 to the smallest non out-lier in the dataset, while the second whisker represents the data from quartile 3 to the largest non-outlier. *[3]*\n",
    "\n",
    "The reason that the whiskers are said to represent data until the smallest and largest non-outlier values is due to the fact that within box plots, the outliers contained within a dataset are represented by points on the chart rather than being part of the box plot. \n",
    "This can all be see in the diagram below for visualisation *[4]* - \n",
    "\n",
    "![Box%20Plot%20Diagram.PNG](attachment:Box%20Plot%20Diagram.PNG) *[4]*\n"
   ]
  },
  {
   "cell_type": "markdown",
   "metadata": {},
   "source": [
    "### Common uses for box plots\n",
    "\n",
    "Box plots have become a useful analysis tool in analytics to demonstrate the results of comparative quantitative studies, therefore in explanatory data analysis.\n",
    "They provide value in visualising such studies as they are quite simple and easy to comprehend while still combining multiple data points over an interval scale. \n",
    "One example of a use for a box plot would be to demonstrate a price comparison between products in different stores for decision making purposes and utilising a box plot to demonstrate the ranges for each competitor. *[5]*  \n",
    "\n",
    "Alternatively there have been many interesting data analysis projects published utilising box plots in order to demonstrate their results. For example, the study which can be seen [here](https://www.researchgate.net/publication/315358903_Data_analysis_using_Box_and_Whisker_Plot_for_Lung_Cancer). This study utilises box plot to demonstrate the results of analysing data relating to lung cancer to identidy undderlying patterns, relations and trends between the data and samples. The study states that box plots were used to easily make relations between the samples and to identify outliers present. *[6]*\n"
   ]
  },
  {
   "cell_type": "markdown",
   "metadata": {},
   "source": [
    "## Demonstrate the use of the box plot using data of your choosing."
   ]
  },
  {
   "cell_type": "markdown",
   "metadata": {},
   "source": [
    "## Explain any relevant terminology such as the terms quartile and percentile."
   ]
  },
  {
   "cell_type": "markdown",
   "metadata": {},
   "source": [
    "## Compare the box plot to alternatives."
   ]
  },
  {
   "cell_type": "markdown",
   "metadata": {},
   "source": [
    "## References\n",
    "\n",
    "*[1]* Box Plot Background Data\n",
    "\n",
    "    https://www.britannica.com/science/box-and-whisker-plot\n",
    "\n",
    "*[2]* John Tukey\n",
    "\n",
    "    https://en.wikipedia.org/wiki/John_Tukey#/media/File:John_Tukey.jpg\n",
    "    \n",
    "*[3]* Understanding box plots\n",
    "\n",
    "    https://towardsdatascience.com/understanding-boxplots-5e2df7bcbd51\n",
    "    \n",
    "*[4]* Box Plot Characteristics\n",
    "\n",
    "      https://stattrek.com/statistics/dictionary.aspx?definition=boxplot\n",
    "      \n",
    "*[5]* Where there are numbers there is box plot\n",
    "\n",
    "    https://www.datasciencecentral.com/profiles/blogs/where-there-are-numbers-there-is-box-plot\n",
    "    \n",
    "*[6]* Thirumalai, Chandra Segar & Manickam, Vignesh & Balaji, R. (2017). Data analysis using Box and Whisker Plot for Lung Cancer. 10.1109/IPACT.2017.8245071. \n",
    "    \n",
    "    https://www.researchgate.net/publication/315358903_Data_analysis_using_Box_and_Whisker_Plot_for_Lung_Cancer"
   ]
  },
  {
   "cell_type": "code",
   "execution_count": null,
   "metadata": {},
   "outputs": [],
   "source": []
  }
 ],
 "metadata": {
  "kernelspec": {
   "display_name": "Python 3",
   "language": "python",
   "name": "python3"
  },
  "language_info": {
   "codemirror_mode": {
    "name": "ipython",
    "version": 3
   },
   "file_extension": ".py",
   "mimetype": "text/x-python",
   "name": "python",
   "nbconvert_exporter": "python",
   "pygments_lexer": "ipython3",
   "version": "3.7.0"
  }
 },
 "nbformat": 4,
 "nbformat_minor": 2
}
